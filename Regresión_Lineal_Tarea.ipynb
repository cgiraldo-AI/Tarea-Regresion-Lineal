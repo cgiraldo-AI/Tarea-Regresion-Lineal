{
  "nbformat": 4,
  "nbformat_minor": 0,
  "metadata": {
    "kernelspec": {
      "display_name": "Python 3",
      "language": "python",
      "name": "python3"
    },
    "language_info": {
      "codemirror_mode": {
        "name": "ipython",
        "version": 3
      },
      "file_extension": ".py",
      "mimetype": "text/x-python",
      "name": "python",
      "nbconvert_exporter": "python",
      "pygments_lexer": "ipython3",
      "version": "3.8.5"
    },
    "colab": {
      "name": "Regresión Lineal Tarea.ipynb",
      "provenance": [],
      "collapsed_sections": [],
      "toc_visible": true
    }
  },
  "cells": [
    {
      "cell_type": "markdown",
      "metadata": {
        "id": "S6BRTtN383s-"
      },
      "source": [
        "# Regresión Lineal\n",
        "## Introducción\n",
        "### ¿Que es Regresión Lineal?"
      ]
    },
    {
      "cell_type": "markdown",
      "metadata": {
        "id": "xpOLm1bO83tE"
      },
      "source": [
        "Es un método estadístico que estudia la relación lineal que existen entre dos variables, este consiste en generar un modelo de regresión (ecuación de una recta) que permita explicar la relación lineal. A la variable dependiente o respuesta se le identifica como “Y” y a la variable predictora o independiente como “X”. $$Y = ax + b$$\n",
        "\n",
        "[Referencia Regresión Lineal](http://eio.usc.es/eipc1/BASE/BASEMASTER/FORMULARIOS-PHP-DPTO/MATERIALES/Mat_50140116_Regr_%20simple_2011_12.pdf)\n",
        "\n"
      ]
    },
    {
      "cell_type": "markdown",
      "metadata": {
        "id": "U0tviQC183tF"
      },
      "source": [
        "### Historia de la Regresión Lineal"
      ]
    },
    {
      "cell_type": "markdown",
      "metadata": {
        "id": "wX3brt-U83tF"
      },
      "source": [
        "El término regresión fue intorudcido por Francis Galton en su libro natural inheritance (1889). Su trabajo se centrón en la descripción de los rasgos físicos de los desendientes (Variable A) a partir de los de sus padres (Variable B). Estudiando la altura de padres e hijos a partir de más de mil registros de grupos familiares, se llegó a la conclución de que los padres muy altos tenían una tendencia a tener hijos que heredan parte de esa altura, pero que revelaban también una tendencia a regresar a la media. Galton generalizó esa tendencia bajo la \"ley de la regresión universal\": Cada peculiaridad en un hombre es compartida por sus descendientes, pero en media, en un grado menor. [Referencia 1](https://prezi.com/qpxysldecq4u/regresion-lineal/?frame=a79f2ee2b8f615172c242610bdb24735781bcf9f)\n",
        "    "
      ]
    },
    {
      "cell_type": "markdown",
      "metadata": {
        "id": "NNBzsbyt83tF"
      },
      "source": [
        "![Francis Galton](C:\\Users\\cgiraldo\\Downloads/francis-galton.jpg)"
      ]
    },
    {
      "cell_type": "markdown",
      "metadata": {
        "id": "Lwj4Udwh83tG"
      },
      "source": [
        "Desde el punto de vista de la Estadística matemática se puede considerar a Galton como un\n",
        "ingenioso amateur, ya que, sin conocer los refinados métodos estadísticos de la época (usados, por\n",
        "ejemplo, por Laplace y Gauss) y por medio de investigaciones empíricas, estudia la variabilidad de\n",
        "características humanas. Desarrolla sus propios y rudimentarios métodos para describir observaciones\n",
        "univariadas y bivariadas normalmente distribuidas, explicando la utilidad y el significado de la\n",
        "regresión y correlación, no solamente en el contexto de la herencia, sino en general. Galton no conocía\n",
        "la literatura estadística germana y para ajustar una distribución normal a sus datos utiliza el método de\n",
        "Quetelet, muy simple desde el punto de vista numérico, ya que, requiere solamente el cálculo de\n",
        "frecuencias relativas y la interpolación en la tabla de la binomial acumulativa. Como no domina con\n",
        "soltura la matemática de su tiempo utiliza artificios mecánicos para “probar” las propiedades de la\n",
        "distribución binomial como el que llamó “quincux”, hoy conocido como aparato de Galton. [Referencia 2](https://core.ac.uk/download/pdf/20343739.pdf)"
      ]
    },
    {
      "cell_type": "markdown",
      "metadata": {
        "id": "G8nVOxse83tG"
      },
      "source": [
        "<img src=data:image/png;base64,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>"
      ]
    },
    {
      "cell_type": "markdown",
      "metadata": {
        "id": "D5uXJuoZ83tH"
      },
      "source": [
        "## Planteamiento del Algoritmo"
      ]
    },
    {
      "cell_type": "markdown",
      "metadata": {
        "id": "vyeD5E2N83tH"
      },
      "source": [
        "Se tiene una base de datos de estudiantes y se quiere verificar de los 920 estudiantes que se matricularon en el primer periodo del año 2016 cuando siguen matriculados hasta el segundo periodo del año 2020, esto para la ciudad de Bogotá."
      ]
    },
    {
      "cell_type": "code",
      "metadata": {
        "id": "fZIYx2EH83tJ"
      },
      "source": [
        "import pandas as pd"
      ],
      "execution_count": 3,
      "outputs": []
    },
    {
      "cell_type": "code",
      "metadata": {
        "colab": {
          "base_uri": "https://localhost:8080/"
        },
        "id": "0hqVuro383tJ",
        "outputId": "f878753b-1f42-4bd6-b238-6d6ff574a02b"
      },
      "source": [
        "from google.colab import drive \n",
        "drive.mount('/content/gdrive')\n",
        "counties=pd.read_excel(\"gdrive/My Drive/Colab Notebooks/Detalle Estudiantes.xlsx\")"
      ],
      "execution_count": 4,
      "outputs": [
        {
          "output_type": "stream",
          "text": [
            "Drive already mounted at /content/gdrive; to attempt to forcibly remount, call drive.mount(\"/content/gdrive\", force_remount=True).\n"
          ],
          "name": "stdout"
        }
      ]
    },
    {
      "cell_type": "code",
      "metadata": {
        "colab": {
          "base_uri": "https://localhost:8080/",
          "height": 419
        },
        "id": "fDbJywz883tK",
        "outputId": "7f87ac67-4110-415e-b03a-5c43fe17f489"
      },
      "source": [
        "counties"
      ],
      "execution_count": 21,
      "outputs": [
        {
          "output_type": "execute_result",
          "data": {
            "text/html": [
              "<div>\n",
              "<style scoped>\n",
              "    .dataframe tbody tr th:only-of-type {\n",
              "        vertical-align: middle;\n",
              "    }\n",
              "\n",
              "    .dataframe tbody tr th {\n",
              "        vertical-align: top;\n",
              "    }\n",
              "\n",
              "    .dataframe thead th {\n",
              "        text-align: right;\n",
              "    }\n",
              "</style>\n",
              "<table border=\"1\" class=\"dataframe\">\n",
              "  <thead>\n",
              "    <tr style=\"text-align: right;\">\n",
              "      <th></th>\n",
              "      <th>Sede</th>\n",
              "      <th>Grado</th>\n",
              "      <th>ID Estudiante</th>\n",
              "      <th>Cohorte</th>\n",
              "      <th>1620</th>\n",
              "      <th>1710</th>\n",
              "      <th>1720</th>\n",
              "      <th>1810</th>\n",
              "      <th>1820</th>\n",
              "      <th>1910</th>\n",
              "      <th>1920</th>\n",
              "      <th>2010</th>\n",
              "      <th>2020</th>\n",
              "      <th>cohorte</th>\n",
              "    </tr>\n",
              "  </thead>\n",
              "  <tbody>\n",
              "    <tr>\n",
              "      <th>0</th>\n",
              "      <td>Bogotá</td>\n",
              "      <td>Pregrado</td>\n",
              "      <td>Estudiante 1</td>\n",
              "      <td>1610</td>\n",
              "      <td>Matr.</td>\n",
              "      <td>Matr.</td>\n",
              "      <td>Matr.</td>\n",
              "      <td>Matr.</td>\n",
              "      <td>Matr.</td>\n",
              "      <td>Matr.</td>\n",
              "      <td>Matr.</td>\n",
              "      <td>Grad.</td>\n",
              "      <td>Grad.</td>\n",
              "      <td>1610</td>\n",
              "    </tr>\n",
              "    <tr>\n",
              "      <th>1</th>\n",
              "      <td>Bogotá</td>\n",
              "      <td>Pregrado</td>\n",
              "      <td>Estudiante 2</td>\n",
              "      <td>1610</td>\n",
              "      <td>Matr.</td>\n",
              "      <td>Matr.</td>\n",
              "      <td>Matr.</td>\n",
              "      <td>Matr.</td>\n",
              "      <td>Matr.</td>\n",
              "      <td>Matr.</td>\n",
              "      <td>Matr.</td>\n",
              "      <td>Grad.</td>\n",
              "      <td>Grad.</td>\n",
              "      <td>1610</td>\n",
              "    </tr>\n",
              "    <tr>\n",
              "      <th>2</th>\n",
              "      <td>Bogotá</td>\n",
              "      <td>Pregrado</td>\n",
              "      <td>Estudiante 3</td>\n",
              "      <td>1610</td>\n",
              "      <td>Matr.</td>\n",
              "      <td>Matr.</td>\n",
              "      <td>Aus.</td>\n",
              "      <td>Dsr.</td>\n",
              "      <td>Dsr.</td>\n",
              "      <td>Dsr.</td>\n",
              "      <td>Dsr.</td>\n",
              "      <td>Dsr.</td>\n",
              "      <td>Dsr.</td>\n",
              "      <td>1610</td>\n",
              "    </tr>\n",
              "    <tr>\n",
              "      <th>3</th>\n",
              "      <td>Bogotá</td>\n",
              "      <td>Pregrado</td>\n",
              "      <td>Estudiante 4</td>\n",
              "      <td>1610</td>\n",
              "      <td>Matr.</td>\n",
              "      <td>Matr.</td>\n",
              "      <td>Matr.</td>\n",
              "      <td>Matr.</td>\n",
              "      <td>Matr.</td>\n",
              "      <td>Matr.</td>\n",
              "      <td>Matr.</td>\n",
              "      <td>Grad.</td>\n",
              "      <td>Grad.</td>\n",
              "      <td>1610</td>\n",
              "    </tr>\n",
              "    <tr>\n",
              "      <th>4</th>\n",
              "      <td>Bogotá</td>\n",
              "      <td>Pregrado</td>\n",
              "      <td>Estudiante 5</td>\n",
              "      <td>1610</td>\n",
              "      <td>Aus.</td>\n",
              "      <td>Rng.</td>\n",
              "      <td>Matr.</td>\n",
              "      <td>Matr.</td>\n",
              "      <td>Aus.</td>\n",
              "      <td>Dsr.</td>\n",
              "      <td>Dsr.</td>\n",
              "      <td>Dsr.</td>\n",
              "      <td>Dsr.</td>\n",
              "      <td>1610</td>\n",
              "    </tr>\n",
              "    <tr>\n",
              "      <th>...</th>\n",
              "      <td>...</td>\n",
              "      <td>...</td>\n",
              "      <td>...</td>\n",
              "      <td>...</td>\n",
              "      <td>...</td>\n",
              "      <td>...</td>\n",
              "      <td>...</td>\n",
              "      <td>...</td>\n",
              "      <td>...</td>\n",
              "      <td>...</td>\n",
              "      <td>...</td>\n",
              "      <td>...</td>\n",
              "      <td>...</td>\n",
              "      <td>...</td>\n",
              "    </tr>\n",
              "    <tr>\n",
              "      <th>9018</th>\n",
              "      <td>Bogotá</td>\n",
              "      <td>Pregrado</td>\n",
              "      <td>Estudiante 9019</td>\n",
              "      <td>2010</td>\n",
              "      <td>NaN</td>\n",
              "      <td>NaN</td>\n",
              "      <td>NaN</td>\n",
              "      <td>NaN</td>\n",
              "      <td>NaN</td>\n",
              "      <td>NaN</td>\n",
              "      <td>NaN</td>\n",
              "      <td>NaN</td>\n",
              "      <td>Matr.</td>\n",
              "      <td>1610</td>\n",
              "    </tr>\n",
              "    <tr>\n",
              "      <th>9019</th>\n",
              "      <td>Bogotá</td>\n",
              "      <td>Pregrado</td>\n",
              "      <td>Estudiante 9020</td>\n",
              "      <td>2010</td>\n",
              "      <td>NaN</td>\n",
              "      <td>NaN</td>\n",
              "      <td>NaN</td>\n",
              "      <td>NaN</td>\n",
              "      <td>NaN</td>\n",
              "      <td>NaN</td>\n",
              "      <td>NaN</td>\n",
              "      <td>NaN</td>\n",
              "      <td>Matr.</td>\n",
              "      <td>1610</td>\n",
              "    </tr>\n",
              "    <tr>\n",
              "      <th>9020</th>\n",
              "      <td>Bogotá</td>\n",
              "      <td>Pregrado</td>\n",
              "      <td>Estudiante 9021</td>\n",
              "      <td>2010</td>\n",
              "      <td>NaN</td>\n",
              "      <td>NaN</td>\n",
              "      <td>NaN</td>\n",
              "      <td>NaN</td>\n",
              "      <td>NaN</td>\n",
              "      <td>NaN</td>\n",
              "      <td>NaN</td>\n",
              "      <td>NaN</td>\n",
              "      <td>Matr.</td>\n",
              "      <td>1610</td>\n",
              "    </tr>\n",
              "    <tr>\n",
              "      <th>9021</th>\n",
              "      <td>Bogotá</td>\n",
              "      <td>Pregrado</td>\n",
              "      <td>Estudiante 9022</td>\n",
              "      <td>2010</td>\n",
              "      <td>NaN</td>\n",
              "      <td>NaN</td>\n",
              "      <td>NaN</td>\n",
              "      <td>NaN</td>\n",
              "      <td>NaN</td>\n",
              "      <td>NaN</td>\n",
              "      <td>NaN</td>\n",
              "      <td>NaN</td>\n",
              "      <td>Matr.</td>\n",
              "      <td>1610</td>\n",
              "    </tr>\n",
              "    <tr>\n",
              "      <th>9022</th>\n",
              "      <td>Bogotá</td>\n",
              "      <td>Pregrado</td>\n",
              "      <td>Estudiante 9023</td>\n",
              "      <td>2010</td>\n",
              "      <td>NaN</td>\n",
              "      <td>NaN</td>\n",
              "      <td>NaN</td>\n",
              "      <td>NaN</td>\n",
              "      <td>NaN</td>\n",
              "      <td>NaN</td>\n",
              "      <td>NaN</td>\n",
              "      <td>NaN</td>\n",
              "      <td>Matr.</td>\n",
              "      <td>1610</td>\n",
              "    </tr>\n",
              "  </tbody>\n",
              "</table>\n",
              "<p>9023 rows × 14 columns</p>\n",
              "</div>"
            ],
            "text/plain": [
              "        Sede     Grado    ID Estudiante  Cohorte  ...   1920   2010   2020 cohorte\n",
              "0     Bogotá  Pregrado     Estudiante 1     1610  ...  Matr.  Grad.  Grad.    1610\n",
              "1     Bogotá  Pregrado     Estudiante 2     1610  ...  Matr.  Grad.  Grad.    1610\n",
              "2     Bogotá  Pregrado     Estudiante 3     1610  ...   Dsr.   Dsr.   Dsr.    1610\n",
              "3     Bogotá  Pregrado     Estudiante 4     1610  ...  Matr.  Grad.  Grad.    1610\n",
              "4     Bogotá  Pregrado     Estudiante 5     1610  ...   Dsr.   Dsr.   Dsr.    1610\n",
              "...      ...       ...              ...      ...  ...    ...    ...    ...     ...\n",
              "9018  Bogotá  Pregrado  Estudiante 9019     2010  ...    NaN    NaN  Matr.    1610\n",
              "9019  Bogotá  Pregrado  Estudiante 9020     2010  ...    NaN    NaN  Matr.    1610\n",
              "9020  Bogotá  Pregrado  Estudiante 9021     2010  ...    NaN    NaN  Matr.    1610\n",
              "9021  Bogotá  Pregrado  Estudiante 9022     2010  ...    NaN    NaN  Matr.    1610\n",
              "9022  Bogotá  Pregrado  Estudiante 9023     2010  ...    NaN    NaN  Matr.    1610\n",
              "\n",
              "[9023 rows x 14 columns]"
            ]
          },
          "metadata": {
            "tags": []
          },
          "execution_count": 21
        }
      ]
    },
    {
      "cell_type": "code",
      "metadata": {
        "colab": {
          "base_uri": "https://localhost:8080/"
        },
        "id": "GPASWrQjBV_m",
        "outputId": "1f5142d9-2e29-4eff-dde6-f9eda3744861"
      },
      "source": [
        "counties.columns"
      ],
      "execution_count": 28,
      "outputs": [
        {
          "output_type": "execute_result",
          "data": {
            "text/plain": [
              "Index([         'Sede',         'Grado', 'ID Estudiante',       'Cohorte',\n",
              "                  1620,            1710,            1720,            1810,\n",
              "                  1820,            1910,            1920,            2010,\n",
              "                  2020,       'cohorte'],\n",
              "      dtype='object')"
            ]
          },
          "metadata": {
            "tags": []
          },
          "execution_count": 28
        }
      ]
    },
    {
      "cell_type": "code",
      "metadata": {
        "colab": {
          "base_uri": "https://localhost:8080/"
        },
        "id": "0ekztRD2A2z2",
        "outputId": "b290acb3-714b-426f-d9e6-a7f5c1d59408"
      },
      "source": [
        "counties['Cohorte'] < 1620"
      ],
      "execution_count": 35,
      "outputs": [
        {
          "output_type": "execute_result",
          "data": {
            "text/plain": [
              "0       True\n",
              "1       True\n",
              "2       True\n",
              "3       True\n",
              "4       True\n",
              "        ... \n",
              "9018    True\n",
              "9019    True\n",
              "9020    True\n",
              "9021    True\n",
              "9022    True\n",
              "Name: Cohorte, Length: 9023, dtype: bool"
            ]
          },
          "metadata": {
            "tags": []
          },
          "execution_count": 35
        }
      ]
    },
    {
      "cell_type": "code",
      "metadata": {
        "colab": {
          "base_uri": "https://localhost:8080/"
        },
        "id": "us4St9Ve_amY",
        "outputId": "a3103a97-80f5-43b4-c790-719ebd7647e0"
      },
      "source": [
        "cohorte = counties[counties['Cohorte'] < 1620]\n",
        "cohorte.info()"
      ],
      "execution_count": 37,
      "outputs": [
        {
          "output_type": "stream",
          "text": [
            "<class 'pandas.core.frame.DataFrame'>\n",
            "Int64Index: 9023 entries, 0 to 9022\n",
            "Data columns (total 14 columns):\n",
            " #   Column         Non-Null Count  Dtype \n",
            "---  ------         --------------  ----- \n",
            " 0   Sede           9023 non-null   object\n",
            " 1   Grado          9023 non-null   object\n",
            " 2   ID Estudiante  9023 non-null   object\n",
            " 3   Cohorte        9023 non-null   int64 \n",
            " 4   1620           1190 non-null   object\n",
            " 5   1710           2386 non-null   object\n",
            " 6   1720           3671 non-null   object\n",
            " 7   1810           4739 non-null   object\n",
            " 8   1820           5719 non-null   object\n",
            " 9   1910           6467 non-null   object\n",
            " 10  1920           7469 non-null   object\n",
            " 11  2010           8173 non-null   object\n",
            " 12  2020           9023 non-null   object\n",
            " 13  cohorte        9023 non-null   int64 \n",
            "dtypes: int64(2), object(12)\n",
            "memory usage: 1.0+ MB\n"
          ],
          "name": "stdout"
        }
      ]
    },
    {
      "cell_type": "code",
      "metadata": {
        "colab": {
          "base_uri": "https://localhost:8080/",
          "height": 265
        },
        "id": "at1CRjXC83tI",
        "outputId": "dc6f0e35-3dae-483b-c332-86b2ab109d68"
      },
      "source": [
        "import matplotlib.pyplot as plt\n",
        "import numpy as np\n",
        "# Periodo 1620 = Segundo Periodo del año 2016, 1710 = Primer Periodo del año 2017\n",
        "x_train = np.array([1620,1710,1720,1810,1820,1910,1920,2010,2020])\n",
        "x_val = np.array([1620,2020])\n",
        "\n",
        "y_train = np.array([920,782,695,635,602,568,579,424,358])\n",
        "y_val = np.array([920,358])\n",
        "\n",
        "a,b = np.polyfit(x_train, y_train, deg=1)\n",
        "y_est = a * x_train + b\n",
        "y_err = x_train.std() * np.sqrt(1/len(x_train) + (x_train - x_train.mean())**2 / np.sum ((x_train - x_train.mean())**2))\n",
        "\n",
        "fig, ax = plt.subplots()\n",
        "ax.plot(x_train,y_est, '-')\n",
        "ax.fill_between(x_train, y_est - y_err, y_est + y_err, alpha=0.2)\n",
        "ax.plot(x_train,y_train, 'o', color='tab:orange')\n",
        "ax.plot(x_val, y_val, 'o', color='tab:gray')\n",
        "\n",
        "plt.show()\n"
      ],
      "execution_count": 48,
      "outputs": [
        {
          "output_type": "display_data",
          "data": {
            "image/png": "[encoded data removed]",
            "text/plain": [
              "<Figure size 432x288 with 1 Axes>"
            ]
          },
          "metadata": {
            "tags": [],
            "needs_background": "light"
          }
        }
      ]
    },
    {
      "cell_type": "markdown",
      "metadata": {
        "id": "6uZT64cFGw4b"
      },
      "source": [
        "## Conclusiones"
      ]
    },
    {
      "cell_type": "markdown",
      "metadata": {
        "id": "TKwEiuMHG1c0"
      },
      "source": [
        "En el ejercicio se verifica que los datos se encuentran dentro de las bandas, para este modelo si funciona, hay que resaltas que este solo me muestra la cantidad de estudiantes para cada periodo"
      ]
    },
    {
      "cell_type": "markdown",
      "metadata": {
        "id": "z7DY72euK9fR"
      },
      "source": [
        "### Realizado Por : Ingeniero Camilo Esteban Giraldo"
      ]
    }
  ]
}